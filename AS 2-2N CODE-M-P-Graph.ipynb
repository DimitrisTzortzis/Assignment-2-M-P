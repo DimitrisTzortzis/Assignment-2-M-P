{
 "cells": [
  {
   "cell_type": "code",
   "execution_count": 8,
   "id": "6b89c842",
   "metadata": {},
   "outputs": [
    {
     "data": {
      "image/png": "[encoded data removed]",
      "text/plain": [
       "<Figure size 540x648 with 30 Axes>"
      ]
     },
     "metadata": {
      "needs_background": "light"
     },
     "output_type": "display_data"
    }
   ],
   "source": [
    "import numpy as np\n",
    "import matplotlib.pyplot as plt\n",
    "\n",
    "# Generate all 3x3 matrices\n",
    "def generate_3x3_matrices():\n",
    "    return [np.array(list(map(int, f\"{i:09b}\"))).reshape(3, 3) for i in range(512)]\n",
    "\n",
    "# Check the determinant\n",
    "def has_zero_determinant(matrix):\n",
    "    return np.linalg.det(matrix) == 0\n",
    "\n",
    "# Check if the matrix has any row or column with three zeros\n",
    "def has_no_three_zeros(matrix):\n",
    "    for i in range(3):\n",
    "        if (np.all(matrix[i, :] == 0) or np.all(matrix[:, i] == 0)):\n",
    "            return False\n",
    "    return True\n",
    "\n",
    "def has_four_zeros_five_ones(matrix):\n",
    "    zeros = np.count_nonzero(matrix == 0)\n",
    "    ones = np.count_nonzero(matrix == 1)\n",
    "    return (zeros == 4 and ones == 5) or (zeros == 5 and ones == 4)\n",
    "\n",
    "# Generate all 3x3 matrices\n",
    "matrices = generate_3x3_matrices()\n",
    "\n",
    "# Filter matrices with zero determinant, no three zeros in a row/column,\n",
    "# and exactly four zeros and five ones, or five zeros and four ones\n",
    "filtered_matrices = [\n",
    "    m for m in matrices if has_zero_determinant(m) and has_no_three_zeros(m) and has_four_zeros_five_ones(m)\n",
    "]\n",
    "\n",
    "\n",
    "def plot_matrices_simple(matrices, title):\n",
    "    num_matrices = len(matrices)\n",
    "    cols = 5 \n",
    "    rows = num_matrices // cols + (num_matrices % cols > 0)  \n",
    "    fig, axes = plt.subplots(rows, cols, figsize=(7.5, rows * 1.5)) \n",
    "    plt.suptitle(title, fontsize=16)\n",
    "    axes = axes.flatten()\n",
    "    for ax, matrix in zip(axes, matrices):\n",
    "        ax.matshow(matrix, cmap='gray_r')\n",
    "        ax.set_xticks([])\n",
    "        ax.set_yticks([])\n",
    "    for ax in axes[len(matrices):]:\n",
    "        ax.axis('off')  # Hide unused subplots\n",
    "    plt.tight_layout(rect=[0, 0.03, 1, 0.95])\n",
    "    plt.show()\n",
    "\n",
    "# Display all matrices without the values\n",
    "plot_matrices_simple(filtered_matrices, \"3x3 Matrices with Zero Determinant (No three zeros in a row/column)\")\n"
   ]
  },
  {
   "cell_type": "code",
   "execution_count": null,
   "id": "1c8365c9",
   "metadata": {},
   "outputs": [],
   "source": []
  }
 ],
 "metadata": {
  "kernelspec": {
   "display_name": "Python 3 (ipykernel)",
   "language": "python",
   "name": "python3"
  },
  "language_info": {
   "codemirror_mode": {
    "name": "ipython",
    "version": 3
   },
   "file_extension": ".py",
   "mimetype": "text/x-python",
   "name": "python",
   "nbconvert_exporter": "python",
   "pygments_lexer": "ipython3",
   "version": "3.9.7"
  }
 },
 "nbformat": 4,
 "nbformat_minor": 5
}
