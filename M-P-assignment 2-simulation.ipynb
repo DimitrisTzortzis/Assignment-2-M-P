{
 "cells": [
  {
   "cell_type": "code",
   "execution_count": 1,
   "id": "b28decc6",
   "metadata": {},
   "outputs": [
    {
     "name": "stdout",
     "output_type": "stream",
     "text": [
      "out of the 250 simulations of the code, Dimitris wins  250 times\n"
     ]
    }
   ],
   "source": [
    "import numpy as np\n",
    "import random\n",
    "\n",
    "# Function of the winning strategy\n",
    "def dimitris_strategy(grid, n):\n",
    "    if n % 2 == 0:  # n is even\n",
    "        # For even n, Dimitris places \"0\"s in the middle four columns\n",
    "        mid = n // 2\n",
    "        # Pick random row that is not filled in the middle four columns\n",
    "        rows = [i for i in range(n) if not all(grid[i,mid-2:mid+2])]\n",
    "        if rows:  # If there is a row to place a \"0\", pick one and place it\n",
    "            row = random.choice(rows)\n",
    "            col = random.choice(range(mid-2, mid+2))\n",
    "            grid[row, col] = 0\n",
    "    else:  # n is odd\n",
    "        # For odd n\n",
    "        mid = n // 2\n",
    "        # row not filled in the middle five columns\n",
    "        rows = [i for i in range(n) if not all(grid[i,mid-2:mid+3])]\n",
    "        if rows:  \n",
    "            row = random.choice(rows)\n",
    "            col = random.choice(range(mid-2, mid+3))\n",
    "            grid[row, col] = 0\n",
    "\n",
    "# Function to randomize the moves of Nikos\n",
    "def nikos_random_move(grid, n):\n",
    "    empty_cells = [(i, j) for i in range(n) for j in range(n) if grid[i, j] == -1]\n",
    "    if empty_cells:\n",
    "        i, j = random.choice(empty_cells)\n",
    "        grid[i, j] = 1\n",
    "\n",
    "# simulate the game\n",
    "def simulate_game(n):\n",
    "    grid = np.full((n, n), -1)  # empty grid with -1\n",
    "    while -1 in grid:  # While there are empty cells\n",
    "        nikos_random_move(grid, n)  # Nikos places a \"1\" randomly\n",
    "        dimitris_strategy(grid, n)  # Dimitris places a \"0\" according to the strategy\n",
    "    return np.linalg.det(grid)  # Return the determinant \n",
    "\n",
    "# Run the simulation 250 times for random n values\n",
    "def main_simulation():\n",
    "    n_values = [2, 4, 5, 6, 7, 8, 9, 10, 11, 12]\n",
    "    wins = 0\n",
    "    for _ in range(250):\n",
    "        n = random.choice(n_values)  # Choose random n value\n",
    "        det = simulate_game(n)  # Simulate the game given specific n\n",
    "        if det == 0:  # If the determinant is zero, count it as a win for Dimitris\n",
    "            wins += 1\n",
    "    return wins\n",
    "\n",
    "# Run the simulation and print the number of wins for Dimitris\n",
    "dimitris_wins = main_simulation()\n",
    "print(\"out of the 250 simulations of the code, Dimitris wins \", dimitris_wins, \"times\")"
   ]
  },
  {
   "cell_type": "code",
   "execution_count": null,
   "id": "cb9d87a8",
   "metadata": {},
   "outputs": [],
   "source": []
  },
  {
   "cell_type": "code",
   "execution_count": null,
   "id": "53fc0208",
   "metadata": {},
   "outputs": [],
   "source": []
  }
 ],
 "metadata": {
  "kernelspec": {
   "display_name": "Python 3 (ipykernel)",
   "language": "python",
   "name": "python3"
  },
  "language_info": {
   "codemirror_mode": {
    "name": "ipython",
    "version": 3
   },
   "file_extension": ".py",
   "mimetype": "text/x-python",
   "name": "python",
   "nbconvert_exporter": "python",
   "pygments_lexer": "ipython3",
   "version": "3.9.7"
  }
 },
 "nbformat": 4,
 "nbformat_minor": 5
}
